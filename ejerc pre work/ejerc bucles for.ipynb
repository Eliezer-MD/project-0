{
 "cells": [
  {
   "cell_type": "markdown",
   "metadata": {},
   "source": [
    "<div style=\"text-align: center;\">\n",
    "  <img src=\"https://github.com/Hack-io-Data/Imagenes/blob/main/01-LogosHackio/logo_celeste@4x.png?raw=true\" alt=\"logo hack(io)\" />\n",
    "</div>"
   ]
  },
  {
   "cell_type": "markdown",
   "metadata": {},
   "source": [
    "####  1. Genera una lista de números del 0 al 4 y luego imprime cada número en la lista usando un `bucle for`. "
   ]
  },
  {
   "cell_type": "code",
   "execution_count": 4,
   "metadata": {},
   "outputs": [
    {
     "name": "stdout",
     "output_type": "stream",
     "text": [
      "en la lista está el: 0\n",
      "en la lista está el: 1\n",
      "en la lista está el: 2\n",
      "en la lista está el: 3\n",
      "en la lista está el: 4\n"
     ]
    }
   ],
   "source": [
    "lista= [0,1,2,3,4]\n",
    "for lista in lista:\n",
    "    print(f\"en la lista está el: {lista}\")\n"
   ]
  },
  {
   "cell_type": "markdown",
   "metadata": {},
   "source": [
    "#### 2. Itera sobre una lista de frutas y muestra cada fruta en mayúsculas. \n"
   ]
  },
  {
   "cell_type": "code",
   "execution_count": 6,
   "metadata": {},
   "outputs": [
    {
     "name": "stdout",
     "output_type": "stream",
     "text": [
      "MANGO\n",
      "GUAYABA\n",
      "NECTARINA\n",
      "MANZANA\n"
     ]
    }
   ],
   "source": [
    "frutas= [\"mango\",\"guayaba\",\"nectarina\",\"manzana\"]\n",
    "for frutas in frutas:\n",
    "    print(frutas.upper())"
   ]
  },
  {
   "cell_type": "markdown",
   "metadata": {},
   "source": [
    "####  3. Genera un bucle while que imprima los números del 0 al 4. \n"
   ]
  },
  {
   "cell_type": "code",
   "execution_count": 8,
   "metadata": {},
   "outputs": [
    {
     "name": "stdout",
     "output_type": "stream",
     "text": [
      "0\n",
      "1\n",
      "2\n",
      "3\n",
      "4\n"
     ]
    }
   ],
   "source": [
    "empieza_numero= 0\n",
    "while empieza_numero<= 4:\n",
    "    print(empieza_numero)\n",
    "    empieza_numero += 1\n"
   ]
  },
  {
   "cell_type": "markdown",
   "metadata": {},
   "source": [
    "#### 4. Genera un bucle del 0 al 9, pero que se detenga en el 5.\n"
   ]
  },
  {
   "cell_type": "code",
   "execution_count": 13,
   "metadata": {},
   "outputs": [
    {
     "name": "stdout",
     "output_type": "stream",
     "text": [
      "0\n",
      "1\n",
      "2\n",
      "3\n",
      "4\n",
      "5\n"
     ]
    }
   ],
   "source": [
    "for numero in range(10):\n",
    "    if numero >5:\n",
    "      break\n",
    "    print(numero)\n"
   ]
  },
  {
   "cell_type": "markdown",
   "metadata": {},
   "source": [
    "#### 5. Recorre los números del 0 al 9 e imprime solo los números impares."
   ]
  },
  {
   "cell_type": "code",
   "execution_count": 14,
   "metadata": {},
   "outputs": [
    {
     "name": "stdout",
     "output_type": "stream",
     "text": [
      "1\n",
      "3\n",
      "5\n",
      "7\n",
      "9\n"
     ]
    }
   ],
   "source": [
    "for numero in range(10):\n",
    "    if numero %2 != 0:\n",
    "        print(numero)"
   ]
  },
  {
   "cell_type": "markdown",
   "metadata": {},
   "source": [
    "#### 6. Dada la lista `[10, 20, 30, 40, 50]`, calcula la suma de todos los elementos usando un bucle `for`."
   ]
  },
  {
   "cell_type": "code",
   "execution_count": 19,
   "metadata": {},
   "outputs": [
    {
     "name": "stdout",
     "output_type": "stream",
     "text": [
      "la suma de todos los numero es :150\n"
     ]
    }
   ],
   "source": [
    "numero= [10, 20, 30, 40, 50]\n",
    "suma = 0\n",
    "for cada_numero in numero:\n",
    "    suma += cada_numero\n",
    "print(f\"la suma de todos los numero es :{suma}\")"
   ]
  },
  {
   "cell_type": "markdown",
   "metadata": {},
   "source": [
    "#### 7. Dada la cadena `\"Hola mundo\"`, cuenta cuántas veces aparecen las vocales (`a`, `e`, `i`, `o`, `u`) usando un bucle `for`.\n"
   ]
  },
  {
   "cell_type": "code",
   "execution_count": 25,
   "metadata": {},
   "outputs": [
    {
     "name": "stdout",
     "output_type": "stream",
     "text": [
      "el numero de vocales es 4\n"
     ]
    }
   ],
   "source": [
    "cadena= \"Hola mundo\" \n",
    "vocales =\"aeiou\"\n",
    "contador= 0\n",
    "for letra in cadena.lower():\n",
    "    if letra in vocales:\n",
    "        contador += 1\n",
    "print(f\"el numero de vocales es {contador}\")\n"
   ]
  },
  {
   "cell_type": "markdown",
   "metadata": {},
   "source": [
    "#### 8. Dada la cadena `\"Python\"`, usa un bucle `for` para imprimir los caracteres en orden inverso (`n`, `o`, `h`, `t`, `y`, `P`).\n"
   ]
  },
  {
   "cell_type": "code",
   "execution_count": 27,
   "metadata": {},
   "outputs": [
    {
     "name": "stdout",
     "output_type": "stream",
     "text": [
      "n\n",
      "o\n",
      "h\n",
      "t\n",
      "y\n",
      "p\n"
     ]
    }
   ],
   "source": [
    "cadena = \"python\"\n",
    "for i in range(len(cadena)-1,-1,-1):\n",
    "    print(cadena[i])"
   ]
  },
  {
   "cell_type": "markdown",
   "metadata": {},
   "source": [
    "#### 9. Dada la lista `[1, 2, 3, 4, 5]`, multiplica todos sus elementos usando un bucle `for` y almacena los resultados en una lista nueva. \n"
   ]
  },
  {
   "cell_type": "code",
   "execution_count": 30,
   "metadata": {},
   "outputs": [
    {
     "name": "stdout",
     "output_type": "stream",
     "text": [
      "la nueva lista multiplicada es [1, 4, 9, 16, 25]\n"
     ]
    }
   ],
   "source": [
    "lista= [1,2,3,4,5]\n",
    "lista_multiplicada=[]\n",
    "for numero in lista:\n",
    "    lista_multiplicada.append(numero*numero)\n",
    "print(f\"la nueva lista multiplicada es {lista_multiplicada}\")\n"
   ]
  },
  {
   "cell_type": "markdown",
   "metadata": {},
   "source": [
    "#### 10. Dada la lista `[1, 2, 3, 4, 5, 6, 7, 8, 9, 10]`, utiliza un bucle `for` para contar cuántos números son pares y cuántos son impares."
   ]
  },
  {
   "cell_type": "code",
   "execution_count": 43,
   "metadata": {},
   "outputs": [
    {
     "name": "stdout",
     "output_type": "stream",
     "text": [
      "la cantidad de numeros impares y pares respectivamente es 5 , 5\n"
     ]
    }
   ],
   "source": [
    "lista_numeros =[1, 2, 3, 4, 5, 6, 7, 8, 9, 10]\n",
    "num_par=0\n",
    "num_impar=0\n",
    "for numero in lista_numeros:\n",
    "    if numero %2  == 0:\n",
    "        num_par += 1\n",
    "    else:\n",
    "        num_impar +=1\n",
    "print ( f\"la cantidad de numeros impares y pares respectivamente es {num_impar} , {num_par}\")\n",
    "\n",
    "     \n",
    "\n",
    " "
   ]
  },
  {
   "cell_type": "markdown",
   "metadata": {},
   "source": [
    "#### 11. Escribe un programa que solicite al usuario un número entero positivo (`n`) y calcule la suma de todos los números primos menores o iguales a `n`. Utiliza un bucle `for` para iterar sobre cada número y verifica si es primo."
   ]
  },
  {
   "cell_type": "code",
   "execution_count": 46,
   "metadata": {},
   "outputs": [
    {
     "name": "stdout",
     "output_type": "stream",
     "text": [
      "23\n"
     ]
    }
   ],
   "source": [
    "numero_entero_positivo = int(input(\"numero entero positivo:\"))\n",
    "suma_num_primo = 0\n",
    "for nuum in range(2, numero_entero_positivo + 1 ):\n",
    "    es_primo = True\n",
    "    suma_num_primo += 1\n",
    "print(suma_num_primo)\n",
    "    \n",
    "\n"
   ]
  },
  {
   "cell_type": "markdown",
   "metadata": {},
   "source": [
    "#### 12. Escribe un programa que solicite al usuario un número entero positivo (`n`) y luego imprima un patrón de asteriscos como el siguiente ejemplo para `n = 5`:\n",
    "```\n",
    "*\n",
    "**\n",
    "***\n",
    "****\n",
    "*****\n",
    "```\n",
    "Utiliza un bucle `for` anidado para controlar la cantidad de asteriscos en cada línea."
   ]
  },
  {
   "cell_type": "code",
   "execution_count": 50,
   "metadata": {},
   "outputs": [
    {
     "name": "stdout",
     "output_type": "stream",
     "text": [
      "*\n",
      "**\n",
      "***\n",
      "****\n",
      "*****\n",
      "******\n",
      "*******\n",
      "********\n",
      "*********\n",
      "**********\n"
     ]
    }
   ],
   "source": [
    "numero_entero_positivo = int(input(\"numero entero positivo\"))\n",
    "for i in range(1,numero_entero_positivo+1):\n",
    "    for asteriscos in range(i):\n",
    "        print(\"*\", end=\"\")\n",
    "    print()"
   ]
  },
  {
   "cell_type": "markdown",
   "metadata": {},
   "source": [
    "#### 13. Dado un texto, utiliza un bucle `for` para contar cuántas veces aparece cada palabra en el texto. Ignora mayúsculas/minúsculas y los signos de puntuación."
   ]
  },
  {
   "cell_type": "code",
   "execution_count": null,
   "metadata": {},
   "outputs": [],
   "source": [
    "texto= input(\"introduce un texto\")\n"
   ]
  },
  {
   "cell_type": "markdown",
   "metadata": {},
   "source": [
    "#### 14. Escribe un programa que solicite al usuario dos números enteros positivos (`inicio` y `fin`, donde `inicio <= fin`) y luego calcule la suma de los números pares y la suma de los números impares en ese rango. Utiliza un bucle `for` para iterar sobre cada número y una estructura `if-else` para clasificar y sumar los números pares e impares."
   ]
  },
  {
   "cell_type": "code",
   "execution_count": 53,
   "metadata": {},
   "outputs": [
    {
     "name": "stdout",
     "output_type": "stream",
     "text": [
      "la suma de numero pares e impares respectivamente es: 270,225\n"
     ]
    }
   ],
   "source": [
    "inicio = int(input(\"numero_inicial_entero_positivo\"))\n",
    "final = int(input(\"numero_final_entero_positivo\"))\n",
    "suma_pares =0\n",
    "suma_inpares = 0\n",
    "for numero in range(inicio, final+1):\n",
    "    if numero %2 ==0:\n",
    "        suma_pares += numero\n",
    "    else:\n",
    "        suma_inpares += numero\n",
    "print(f\"la suma de numero pares e impares respectivamente es: {suma_pares},{suma_inpares}\")\n",
    "        \n",
    "\n",
    "    "
   ]
  },
  {
   "cell_type": "markdown",
   "metadata": {},
   "source": [
    "#### 15. Escribe un programa que solicite al usuario un número entero positivo (`n`) y luego identifique todos los números primos menores o iguales a `n`. Para cada número, imprime si es primo o no usando un bucle `for` y una estructura `if-else` para verificar la condición de primalidad."
   ]
  },
  {
   "cell_type": "code",
   "execution_count": 62,
   "metadata": {},
   "outputs": [
    {
     "name": "stdout",
     "output_type": "stream",
     "text": [
      "48 no es primo\n"
     ]
    }
   ],
   "source": [
    "n = int(input(\"Introduce un número entero positivo: \"))\n",
    "for num in range(2, n + 1):\n",
    "     es_primo = True\n",
    "for divisor in range(2, int(num ** 0.5) + 1):\n",
    "        if num % divisor == 0:\n",
    "            es_primo = False \n",
    "            break\n",
    "if es_primo:\n",
    "       print(f\"{num} es primo\")\n",
    "else:\n",
    "        print(f\"{num} no es primo\")\n",
    "\n",
    "      "
   ]
  },
  {
   "cell_type": "markdown",
   "metadata": {},
   "source": [
    "#### 16.Dada una lista de precios `[100, 200, 300, 400, 500]`, aplica un descuento del 10% a todos los precios mayores a `250`. Imprime la lista actualizada de precios después de aplicar el descuento utilizando un bucle `for`. "
   ]
  },
  {
   "cell_type": "code",
   "execution_count": 64,
   "metadata": {},
   "outputs": [
    {
     "name": "stdout",
     "output_type": "stream",
     "text": [
      "lista actualizada de precios es  [100, 200, 270.0, 360.0, 450.0]\n"
     ]
    }
   ],
   "source": [
    "precios= [100,200,300,400,500]\n",
    "for precio in range(len(precios)):\n",
    "    if precios[precio]> 250:\n",
    "        precios[precio]= precios[precio]*0.9\n",
    "print(\"lista actualizada de precios es \" ,precios)"
   ]
  },
  {
   "cell_type": "markdown",
   "metadata": {},
   "source": [
    "#### 17. Dada una lista de calificaciones de estudiantes `[85, 92, 78, 90, 88]`, clasifica a cada estudiante como \"Aprobado\" si la calificación es mayor o igual a `80` y como \"Reprobado\" si es menor a `80`. Imprime el nombre de cada estudiante junto con su estado utilizando un bucle `for` y una estructura `if-else`.\n"
   ]
  },
  {
   "cell_type": "code",
   "execution_count": 66,
   "metadata": {},
   "outputs": [
    {
     "name": "stdout",
     "output_type": "stream",
     "text": [
      "Eduardo:APROBADO\n",
      "Bencomo:APROBADO\n",
      "Ayoze:SUSPENDIDO\n",
      "Javier:APROBADO\n",
      "Misael:APROBADO\n"
     ]
    }
   ],
   "source": [
    "calificaciones = [85,92,78,98,88]\n",
    "nombres= [\"Eduardo\", \"Bencomo\", \"Ayoze\", \"Javier\", \"Misael\"]\n",
    "for i in range(len(calificaciones)):\n",
    "    if calificaciones[i]>= 80:\n",
    "      calificado= \"APROBADO\"\n",
    "    else:\n",
    "       calificado=\"SUSPENDIDO\"\n",
    "    print(f\"{nombres[i]}:{calificado}\")\n",
    "\n"
   ]
  },
  {
   "cell_type": "markdown",
   "metadata": {},
   "source": [
    "\n",
    "#### 18. Escribe un programa que solicite al usuario dos números enteros positivos (`inicio`, `fin`) y otro número entero positivo (`divisor`). Encuentra el número más grande en el rango desde `inicio` hasta `fin` que sea divisible por `divisor`. Utiliza un bucle `for` y una estructura `if-else` para verificar y mantener el registro del número más grande divisible por el divisor dado.\n"
   ]
  },
  {
   "cell_type": "code",
   "execution_count": null,
   "metadata": {},
   "outputs": [],
   "source": [
    "inicio = int(input(\"Introduce el número inicial que sea entero y positivo \"))\n",
    "fin = int(input(\"Introduce el número final que sea entero y positivo \"))\n",
    "divisor = int(input(\"Introduce el divisor que sea entero y positivo \"))\n",
    "\n"
   ]
  }
 ],
 "metadata": {
  "kernelspec": {
   "display_name": "Python 3",
   "language": "python",
   "name": "python3"
  },
  "language_info": {
   "codemirror_mode": {
    "name": "ipython",
    "version": 3
   },
   "file_extension": ".py",
   "mimetype": "text/x-python",
   "name": "python",
   "nbconvert_exporter": "python",
   "pygments_lexer": "ipython3",
   "version": "3.12.5"
  }
 },
 "nbformat": 4,
 "nbformat_minor": 2
}
