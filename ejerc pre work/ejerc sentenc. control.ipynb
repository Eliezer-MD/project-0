{
 "cells": [
  {
   "cell_type": "markdown",
   "metadata": {},
   "source": [
    "<div style=\"text-align: center;\">\n",
    "  <img src=\"https://github.com/Hack-io-Data/Imagenes/blob/main/01-LogosHackio/logo_celeste@4x.png?raw=true\" alt=\"logo hack(io)\" />\n",
    "</div>"
   ]
  },
  {
   "cell_type": "markdown",
   "metadata": {},
   "source": [
    "#### 1. Escribe un programa que determine si un número es par o impar.\n",
    "\n"
   ]
  },
  {
   "cell_type": "code",
   "execution_count": 1,
   "metadata": {},
   "outputs": [
    {
     "name": "stdout",
     "output_type": "stream",
     "text": [
      "el numero es par\n"
     ]
    }
   ],
   "source": [
    "numero=int(input()) \n",
    "\n",
    "if numero %2 == 0 :\n",
    " print( \"el numero es par\")\n",
    "else:\n",
    " print(\"el numero es impar\")"
   ]
  },
  {
   "cell_type": "markdown",
   "metadata": {},
   "source": [
    "#### 2. Genera un programa que nos diga si es de noche, de día o tarde según la hora proporcionada por el usuario."
   ]
  },
  {
   "cell_type": "code",
   "execution_count": 25,
   "metadata": {},
   "outputs": [
    {
     "name": "stdout",
     "output_type": "stream",
     "text": [
      "es por la tarde\n"
     ]
    }
   ],
   "source": [
    "hora = int(input())\n",
    "if 6 <= hora <12:\n",
    " print(\"es de día\")\n",
    "elif 12 <= hora <22:\n",
    " print(\"es por la tarde\")\n",
    "elif 22 <= hora <24 or 0<= hora <6:\n",
    " print(\"es de noche\")\n",
    "else:\n",
    " print(\"la hora introducida no es correcta\")"
   ]
  },
  {
   "cell_type": "markdown",
   "metadata": {},
   "source": [
    "#### 3. Dado un nombre imprime un saludo personalizado."
   ]
  },
  {
   "cell_type": "code",
   "execution_count": null,
   "metadata": {},
   "outputs": [
    {
     "name": "stdout",
     "output_type": "stream",
     "text": [
      "Buenod dias mi nombre es alberto\n"
     ]
    }
   ],
   "source": [
    "nombre = input()\n",
    "print(f\"Buenos dias mi nombre es {nombre}\" )"
   ]
  },
  {
   "cell_type": "markdown",
   "metadata": {},
   "source": [
    "#### 4. Escribe un programa que determine qué calificación en texto tiene un alumno en base a su calificación numérica. Las reglas de calificación son: \n",
    "\n",
    "- 0 - 69 insuficiente\n",
    "\n",
    "- 70 - 79 bien\n",
    "\n",
    "- 80 - 89 muy bien\n",
    "\n",
    "- 90 - 100 excelente\n"
   ]
  },
  {
   "cell_type": "code",
   "execution_count": 6,
   "metadata": {},
   "outputs": [
    {
     "name": "stdout",
     "output_type": "stream",
     "text": [
      "ha sido calificado con: muy bien\n"
     ]
    }
   ],
   "source": [
    "nota = int(input())\n",
    "if nota<=  69:\n",
    " print(\"ha sido calificado como ensuficiente\")\n",
    "elif 69 >nota<=79:\n",
    " print(\"ha sido calificado con : bien\")\n",
    "elif 79< nota <= 89:\n",
    " print(\"ha sido calificado con: muy bien\")\n",
    "elif 89< nota <= 100:\n",
    "  print(\"ha sido calificado con:. excelente\")\n",
    "else:\n",
    "  print(\"la nota no es correcta\")"
   ]
  },
  {
   "cell_type": "markdown",
   "metadata": {},
   "source": [
    "#### 5. Escribe un programa que imprima el día de la semana, dado un número del 1 al 7.\n"
   ]
  },
  {
   "cell_type": "code",
   "execution_count": 7,
   "metadata": {},
   "outputs": [
    {
     "name": "stdout",
     "output_type": "stream",
     "text": [
      "jueves\n"
     ]
    }
   ],
   "source": [
    "dia_de_la_semana= int(input())\n",
    "if dia_de_la_semana == 1:\n",
    " print(\"Es lunes\")\n",
    "elif dia_de_la_semana == 2:\n",
    "  print(\"Es martes\")\n",
    "elif dia_de_la_semana == 3:\n",
    "  print(\"Es miercoles\")\n",
    "elif dia_de_la_semana == 4:\n",
    "  print(\"jueves\")\n",
    "elif dia_de_la_semana == 5:\n",
    "  print(\"Es viernes\")\n",
    "elif dia_de_la_semana == 6:\n",
    "  print(\"Es viernes\")\n",
    "elif dia_de_la_semana == 7:\n",
    "  print(\"Es domingo\")\n"
   ]
  },
  {
   "cell_type": "markdown",
   "metadata": {},
   "source": [
    "#### 6. Escribe un programa que determine si un número es positivo, negativo o cero."
   ]
  },
  {
   "cell_type": "code",
   "execution_count": null,
   "metadata": {},
   "outputs": [
    {
     "name": "stdout",
     "output_type": "stream",
     "text": [
      "el numero es positivo\n"
     ]
    }
   ],
   "source": [
    "numero = int(input())\n",
    "if numero < 0:\n",
    "    print(\"el numero escogido es negativo\")\n",
    "elif numero ==0:\n",
    "    print(\"el numero es cero\")\n",
    "else :\n",
    "    print(\"el numero es positivo\")"
   ]
  },
  {
   "cell_type": "markdown",
   "metadata": {},
   "source": [
    "#### 7. Escribe un programa que determine si una persona puede conducir o no. La edad mínima para conducir es 18 años. \n"
   ]
  },
  {
   "cell_type": "code",
   "execution_count": 11,
   "metadata": {},
   "outputs": [
    {
     "name": "stdout",
     "output_type": "stream",
     "text": [
      "si puede conducir\n"
     ]
    }
   ],
   "source": [
    "edad_para_conducir = int(input())\n",
    "if edad_para_conducir < 18:\n",
    "    print(\"no puede conducir\")\n",
    "elif 18 <= edad_para_conducir <85:\n",
    "    print(\"si puede conducir\")"
   ]
  },
  {
   "cell_type": "markdown",
   "metadata": {},
   "source": [
    "#### 8. Escribe un programa que determine si un estudiante aprobó o suspendió un examen."
   ]
  },
  {
   "cell_type": "code",
   "execution_count": 51,
   "metadata": {},
   "outputs": [
    {
     "name": "stdout",
     "output_type": "stream",
     "text": [
      "la nota obtenido es: apto\n"
     ]
    }
   ],
   "source": [
    "nota= int(input())\n",
    "if nota< 5:\n",
    "    print(\"la nota obtenida es: suspendido\")\n",
    "elif 5<= nota:\n",
    " print(\"la nota obtenido es: apto\")"
   ]
  },
  {
   "cell_type": "markdown",
   "metadata": {},
   "source": [
    "#### 9. Escribe un programa que determine si un número es múltiplo de 3 y 5.\n"
   ]
  },
  {
   "cell_type": "code",
   "execution_count": 21,
   "metadata": {},
   "outputs": [
    {
     "name": "stdout",
     "output_type": "stream",
     "text": [
      "no es multiplo\n"
     ]
    }
   ],
   "source": [
    "numero = int(input())\n",
    "if numero %3 == 0 and numero %5 == 0:\n",
    "    print(\" es multiplo de 3 y 5\")\n",
    "else:\n",
    "    print(\"no es multiplo\")\n",
    "\n"
   ]
  },
  {
   "cell_type": "markdown",
   "metadata": {},
   "source": [
    "#### 10. Escribe un programa que determine si un número es par o impar.\n"
   ]
  },
  {
   "cell_type": "code",
   "execution_count": 22,
   "metadata": {},
   "outputs": [
    {
     "name": "stdout",
     "output_type": "stream",
     "text": [
      "el numero es par\n"
     ]
    }
   ],
   "source": [
    "numero=int(input()) \n",
    "\n",
    "if numero %2 == 0 :\n",
    " print( \"el numero es par\")\n",
    "else:\n",
    " print(\"el numero es impar\")"
   ]
  }
 ],
 "metadata": {
  "kernelspec": {
   "display_name": "Python 3",
   "language": "python",
   "name": "python3"
  },
  "language_info": {
   "codemirror_mode": {
    "name": "ipython",
    "version": 3
   },
   "file_extension": ".py",
   "mimetype": "text/x-python",
   "name": "python",
   "nbconvert_exporter": "python",
   "pygments_lexer": "ipython3",
   "version": "3.12.5"
  }
 },
 "nbformat": 4,
 "nbformat_minor": 2
}
